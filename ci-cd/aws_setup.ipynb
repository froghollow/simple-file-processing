{
 "cells": [
  {
   "cell_type": "markdown",
   "metadata": {},
   "source": [
    "# AWS Setup\n",
    "\n",
    "Install AWS stuff"
   ]
  },
  {
   "cell_type": "code",
   "execution_count": 1,
   "metadata": {
    "collapsed": true,
    "jupyter": {
     "outputs_hidden": true
    },
    "tags": []
   },
   "outputs": [
    {
     "name": "stderr",
     "output_type": "stream",
     "text": [
      "  % Total    % Received % Xferd  Average Speed   Time    Time     Time  Current\n",
      "                                 Dload  Upload   Total   Spent    Left  Speed\n",
      "100 46.0M  100 46.0M    0     0   232M      0 --:--:-- --:--:-- --:--:--  232M\n"
     ]
    },
    {
     "name": "stdout",
     "output_type": "stream",
     "text": [
      "Archive:  awscliv2.zip\n"
     ]
    },
    {
     "name": "stderr",
     "output_type": "stream",
     "text": [
      "replace aws/README.md? [y]es, [n]o, [A]ll, [N]one, [r]ename: error:  invalid response [sudo ./aw]\n",
      "replace aws/README.md? [y]es, [n]o, [A]ll, [N]one, [r]ename: error:  invalid response [s/install]\n",
      "replace aws/README.md? [y]es, [n]o, [A]ll, [N]one, [r]ename: error:  invalid response [ --bin-di]\n",
      "replace aws/README.md? [y]es, [n]o, [A]ll, [N]one, [r]ename: new name: replace cal/bin --install-dir /usr/local/aws-cli --update? [y]es, [n]o, [A]ll, [N]one, [r]ename:  NULL\n",
      "(EOF or read error, treating as \"[N]one\" ...)\n"
     ]
    },
    {
     "ename": "CalledProcessError",
     "evalue": "Command 'b'# Install AWS Command Line Interface (AWS CLI)\\n# ref https://docs.aws.amazon.com/cli/latest/userguide/getting-started-install.html\\ncd /tmp\\n\\ncurl \"https://awscli.amazonaws.com/awscli-exe-linux-x86_64.zip\" -o \"awscliv2.zip\"\\nunzip awscliv2.zip\\nsudo ./aws/install --bin-dir /usr/local/bin --install-dir /usr/local/aws-cli --update\\n'' returned non-zero exit status 1.",
     "output_type": "error",
     "traceback": [
      "\u001b[0;31m---------------------------------------------------------------------------\u001b[0m",
      "\u001b[0;31mCalledProcessError\u001b[0m                        Traceback (most recent call last)",
      "Cell \u001b[0;32mIn[1], line 1\u001b[0m\n\u001b[0;32m----> 1\u001b[0m get_ipython()\u001b[39m.\u001b[39;49mrun_cell_magic(\u001b[39m'\u001b[39;49m\u001b[39mbash\u001b[39;49m\u001b[39m'\u001b[39;49m, \u001b[39m'\u001b[39;49m\u001b[39m'\u001b[39;49m, \u001b[39m'\u001b[39;49m\u001b[39m# Install AWS Command Line Interface (AWS CLI)\u001b[39;49m\u001b[39m\\n\u001b[39;49;00m\u001b[39m# ref https://docs.aws.amazon.com/cli/latest/userguide/getting-started-install.html\u001b[39;49m\u001b[39m\\n\u001b[39;49;00m\u001b[39mcd /tmp\u001b[39;49m\u001b[39m\\n\u001b[39;49;00m\u001b[39m\\n\u001b[39;49;00m\u001b[39mcurl \u001b[39;49m\u001b[39m\"\u001b[39;49m\u001b[39mhttps://awscli.amazonaws.com/awscli-exe-linux-x86_64.zip\u001b[39;49m\u001b[39m\"\u001b[39;49m\u001b[39m -o \u001b[39;49m\u001b[39m\"\u001b[39;49m\u001b[39mawscliv2.zip\u001b[39;49m\u001b[39m\"\u001b[39;49m\u001b[39m\\n\u001b[39;49;00m\u001b[39munzip awscliv2.zip\u001b[39;49m\u001b[39m\\n\u001b[39;49;00m\u001b[39msudo ./aws/install --bin-dir /usr/local/bin --install-dir /usr/local/aws-cli --update\u001b[39;49m\u001b[39m\\n\u001b[39;49;00m\u001b[39m'\u001b[39;49m)\n",
      "File \u001b[0;32m~/.local/lib/python3.10/site-packages/IPython/core/interactiveshell.py:2417\u001b[0m, in \u001b[0;36mInteractiveShell.run_cell_magic\u001b[0;34m(self, magic_name, line, cell)\u001b[0m\n\u001b[1;32m   2415\u001b[0m \u001b[39mwith\u001b[39;00m \u001b[39mself\u001b[39m\u001b[39m.\u001b[39mbuiltin_trap:\n\u001b[1;32m   2416\u001b[0m     args \u001b[39m=\u001b[39m (magic_arg_s, cell)\n\u001b[0;32m-> 2417\u001b[0m     result \u001b[39m=\u001b[39m fn(\u001b[39m*\u001b[39;49margs, \u001b[39m*\u001b[39;49m\u001b[39m*\u001b[39;49mkwargs)\n\u001b[1;32m   2418\u001b[0m \u001b[39mreturn\u001b[39;00m result\n",
      "File \u001b[0;32m~/.local/lib/python3.10/site-packages/IPython/core/magics/script.py:153\u001b[0m, in \u001b[0;36mScriptMagics._make_script_magic.<locals>.named_script_magic\u001b[0;34m(line, cell)\u001b[0m\n\u001b[1;32m    151\u001b[0m \u001b[39melse\u001b[39;00m:\n\u001b[1;32m    152\u001b[0m     line \u001b[39m=\u001b[39m script\n\u001b[0;32m--> 153\u001b[0m \u001b[39mreturn\u001b[39;00m \u001b[39mself\u001b[39;49m\u001b[39m.\u001b[39;49mshebang(line, cell)\n",
      "File \u001b[0;32m~/.local/lib/python3.10/site-packages/IPython/core/magics/script.py:305\u001b[0m, in \u001b[0;36mScriptMagics.shebang\u001b[0;34m(self, line, cell)\u001b[0m\n\u001b[1;32m    300\u001b[0m \u001b[39mif\u001b[39;00m args\u001b[39m.\u001b[39mraise_error \u001b[39mand\u001b[39;00m p\u001b[39m.\u001b[39mreturncode \u001b[39m!=\u001b[39m \u001b[39m0\u001b[39m:\n\u001b[1;32m    301\u001b[0m     \u001b[39m# If we get here and p.returncode is still None, we must have\u001b[39;00m\n\u001b[1;32m    302\u001b[0m     \u001b[39m# killed it but not yet seen its return code. We don't wait for it,\u001b[39;00m\n\u001b[1;32m    303\u001b[0m     \u001b[39m# in case it's stuck in uninterruptible sleep. -9 = SIGKILL\u001b[39;00m\n\u001b[1;32m    304\u001b[0m     rc \u001b[39m=\u001b[39m p\u001b[39m.\u001b[39mreturncode \u001b[39mor\u001b[39;00m \u001b[39m-\u001b[39m\u001b[39m9\u001b[39m\n\u001b[0;32m--> 305\u001b[0m     \u001b[39mraise\u001b[39;00m CalledProcessError(rc, cell)\n",
      "\u001b[0;31mCalledProcessError\u001b[0m: Command 'b'# Install AWS Command Line Interface (AWS CLI)\\n# ref https://docs.aws.amazon.com/cli/latest/userguide/getting-started-install.html\\ncd /tmp\\n\\ncurl \"https://awscli.amazonaws.com/awscli-exe-linux-x86_64.zip\" -o \"awscliv2.zip\"\\nunzip awscliv2.zip\\nsudo ./aws/install --bin-dir /usr/local/bin --install-dir /usr/local/aws-cli --update\\n'' returned non-zero exit status 1."
     ]
    }
   ],
   "source": [
    "%%bash\n",
    "# Install AWS Command Line Interface (AWS CLI)\n",
    "# ref https://docs.aws.amazon.com/cli/latest/userguide/getting-started-install.html\n",
    "cd /tmp\n",
    "\n",
    "curl \"https://awscli.amazonaws.com/awscli-exe-linux-x86_64.zip\" -o \"awscliv2.zip\"\n",
    "unzip awscliv2.zip\n",
    "sudo ./aws/install --bin-dir /usr/local/bin --install-dir /usr/local/aws-cli --update"
   ]
  },
  {
   "cell_type": "code",
   "execution_count": 3,
   "metadata": {},
   "outputs": [
    {
     "name": "stdout",
     "output_type": "stream",
     "text": [
      "aws-cli/2.9.4 Python/3.9.11 Linux/5.4.0-1094-azure exe/x86_64.ubuntu.20 prompt/off\n"
     ]
    }
   ],
   "source": [
    "%%bash\n",
    "# confirm AWS CLI installation\n",
    "aws --version"
   ]
  },
  {
   "cell_type": "code",
   "execution_count": 6,
   "metadata": {
    "collapsed": true,
    "jupyter": {
     "outputs_hidden": true
    },
    "tags": []
   },
   "outputs": [
    {
     "name": "stdout",
     "output_type": "stream",
     "text": [
      "Collecting boto3\n",
      "  Downloading boto3-1.26.22-py3-none-any.whl (132 kB)\n",
      "     ━━━━━━━━━━━━━━━━━━━━━━━━━━━━━━━━━━━━━━━ 132.6/132.6 kB 6.2 MB/s eta 0:00:00\n",
      "Collecting botocore<1.30.0,>=1.29.22\n",
      "  Downloading botocore-1.29.22-py3-none-any.whl (10.2 MB)\n",
      "     ━━━━━━━━━━━━━━━━━━━━━━━━━━━━━━━━━━━━━━━━ 10.2/10.2 MB 72.3 MB/s eta 0:00:00\n",
      "Collecting jmespath<2.0.0,>=0.7.1\n",
      "  Downloading jmespath-1.0.1-py3-none-any.whl (20 kB)\n",
      "Collecting s3transfer<0.7.0,>=0.6.0\n",
      "  Downloading s3transfer-0.6.0-py3-none-any.whl (79 kB)\n",
      "     ━━━━━━━━━━━━━━━━━━━━━━━━━━━━━━━━━━━━━━━━ 79.6/79.6 kB 4.6 MB/s eta 0:00:00\n",
      "Requirement already satisfied: urllib3<1.27,>=1.25.4 in /home/codespace/.local/lib/python3.10/site-packages (from botocore<1.30.0,>=1.29.22->boto3) (1.26.13)\n",
      "Requirement already satisfied: python-dateutil<3.0.0,>=2.1 in /home/codespace/.local/lib/python3.10/site-packages (from botocore<1.30.0,>=1.29.22->boto3) (2.8.2)\n",
      "Requirement already satisfied: six>=1.5 in /home/codespace/.local/lib/python3.10/site-packages (from python-dateutil<3.0.0,>=2.1->botocore<1.30.0,>=1.29.22->boto3) (1.16.0)\n",
      "Installing collected packages: jmespath, botocore, s3transfer, boto3\n",
      "Successfully installed boto3-1.26.22 botocore-1.29.22 jmespath-1.0.1 s3transfer-0.6.0\n"
     ]
    }
   ],
   "source": [
    "%%bash\n",
    "# Install the AWS SDK for Python\n",
    "# ref https://boto3.amazonaws.com/v1/documentation/api/latest/guide/quickstart.html\n",
    "pip install boto3"
   ]
  },
  {
   "cell_type": "code",
   "execution_count": 11,
   "metadata": {},
   "outputs": [],
   "source": [
    "# Set up AWS IAM Credential and Config Files\n",
    "import os\n",
    "aws_folder = f\"{os.environ['HOME']}/.aws\"\n",
    "\n",
    "if not os.path.exists(aws_folder):\n",
    "    os.makedirs(aws_folder)\n",
    "os.chdir(aws_folder)\n",
    "\n",
    "# >>>> CAREFUL, don't store secret in this notebook! (edit the file after it's created) <<<< #\n",
    "credential = \"\"\"[default] \n",
    "aws_access_key_id = YOUR_ACCESS_KEY \n",
    "aws_secret_access_key = YOUR_SECRET_KEY \"\"\"\n",
    "with open('credentials', 'w') as credfile:\n",
    "    credfile.write(credential)\n",
    "\n",
    "config = \"\"\"[default] \n",
    "region=us-east-2 \"\"\"\n",
    "with open('config', 'w') as configfile:\n",
    "    configfile.write(config)"
   ]
  },
  {
   "cell_type": "markdown",
   "metadata": {},
   "source": [
    "## AWS Global Cert Bundle\n",
    "When connecting from within the Bureau's VPN, you will get error messages re: 'Self Signed Certs'.   \n",
    "\n",
    "You can work around by adding '--no-verify-ssl' to CLI commands.  \n",
    "e.g.,\n",
    "```\n",
    "$ aws s3 ls --no-verify-ssl\n",
    "```\n",
    "\n",
    "In the boto3 SDK, you can add 'verify=False' when creating client objects\n",
    "e.g.,\n",
    "```\n",
    "iam = boto3.client('iam', verify=False)\n",
    "```\n",
    "\n",
    "Tidiest way to deal with it is to set environment variable ...\n",
    "```\n",
    "export AWS_CA_BUNDLE=$HOME/.aws/global-bundle.pem\n",
    "```\n",
    "\n",
    "And download a copy of [global-bundle.pem](s3://daab-dtl-lab-datawork/rmyers07/doc/global-bundle.pem) from S3.\n",
    "\n",
    "Or from https://truststore.pki.us-gov-west-1.rds.amazonaws.com/global/global-bundle.pem.\n",
    "\n"
   ]
  }
 ],
 "metadata": {
  "kernelspec": {
   "display_name": "conda_python3",
   "language": "python",
   "name": "conda_python3"
  },
  "language_info": {
   "codemirror_mode": {
    "name": "ipython",
    "version": 3
   },
   "file_extension": ".py",
   "mimetype": "text/x-python",
   "name": "python",
   "nbconvert_exporter": "python",
   "pygments_lexer": "ipython3",
   "version": "3.8.12"
  },
  "vscode": {
   "interpreter": {
    "hash": "9650cb4e16cdd4a8e8e2d128bf38d875813998db22a3c986335f89e0cb4d7bb2"
   }
  }
 },
 "nbformat": 4,
 "nbformat_minor": 4
}
